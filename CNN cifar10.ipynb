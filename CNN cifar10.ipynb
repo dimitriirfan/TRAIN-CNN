{
 "nbformat": 4,
 "nbformat_minor": 2,
 "metadata": {
  "language_info": {
   "name": "python",
   "codemirror_mode": {
    "name": "ipython",
    "version": 3
   },
   "version": "3.7.6-final"
  },
  "orig_nbformat": 2,
  "file_extension": ".py",
  "mimetype": "text/x-python",
  "name": "python",
  "npconvert_exporter": "python",
  "pygments_lexer": "ipython3",
  "version": 3,
  "kernelspec": {
   "name": "python37664bittensorvenvb8e1171f4018429e9e88d16fd8ee1807",
   "display_name": "Python 3.7.6 64-bit ('tensor': venv)"
  }
 },
 "cells": [
  {
   "cell_type": "code",
   "execution_count": 3,
   "metadata": {},
   "outputs": [
    {
     "name": "stderr",
     "output_type": "stream",
     "text": "Using TensorFlow backend.\n"
    }
   ],
   "source": [
    "import tensorflow as tf\n",
    "import matplotlib.pyplot as plt \n",
    "from keras.models import Sequential\n",
    "from keras.layers import Conv2D, MaxPooling2D, Flatten, Dense, BatchNormalization\n",
    "from keras.utils import to_categorical\n",
    "import numpy as np"
   ]
  },
  {
   "cell_type": "code",
   "execution_count": 4,
   "metadata": {},
   "outputs": [],
   "source": [
    "(X_train, y_train), (X_test, y_test) = tf.keras.datasets.cifar10.load_data()"
   ]
  },
  {
   "cell_type": "code",
   "execution_count": 5,
   "metadata": {},
   "outputs": [
    {
     "name": "stdout",
     "output_type": "stream",
     "text": "X_train shape :  (50000, 32, 32, 3)\ny_train shape :  (50000, 1)\nX_test shape :  (10000, 32, 32, 3)\ny_test shape : (10000, 1)\n"
    }
   ],
   "source": [
    "print(\"X_train shape : \", X_train.shape)\n",
    "print(\"y_train shape : \", y_train.shape)\n",
    "print(\"X_test shape : \", X_test.shape)\n",
    "print(\"y_test shape :\" , y_test.shape)"
   ]
  },
  {
   "cell_type": "code",
   "execution_count": 6,
   "metadata": {},
   "outputs": [
    {
     "name": "stdout",
     "output_type": "stream",
     "text": "X_train shape :  (40000, 32, 32, 3)\ny_train shape :  (40000, 1)\nX_val shape :  (10000, 32, 32, 3)\ny_val shape : (10000, 1)\n"
    }
   ],
   "source": [
    "X_val = X_train[-10000:,:]\n",
    "y_val = y_train[-10000:]\n",
    "\n",
    "X_train = X_train[:-10000,:]\n",
    "y_train = y_train[:-10000]\n",
    "\n",
    "print(\"X_train shape : \", X_train.shape)\n",
    "print(\"y_train shape : \", y_train.shape)\n",
    "print(\"X_val shape : \", X_val.shape)\n",
    "print(\"y_val shape :\" , y_val.shape)"
   ]
  },
  {
   "cell_type": "code",
   "execution_count": 7,
   "metadata": {},
   "outputs": [],
   "source": [
    "y_train_hot = to_categorical(y_train)\n",
    "y_test_hot = to_categorical(y_test)\n",
    "y_val_hot = to_categorical(y_val)"
   ]
  },
  {
   "cell_type": "code",
   "execution_count": 8,
   "metadata": {},
   "outputs": [],
   "source": [
    "mean = np.mean(X_train)\n",
    "std = np.std(X_train)i\n"
   ]
  },
  {
   "cell_type": "code",
   "execution_count": 9,
   "metadata": {},
   "outputs": [],
   "source": [
    "X_train = (X_train - mean) / std\n",
    "X_test = (X_test - mean) / std\n",
    "X_val = (X_val - mean) / std"
   ]
  },
  {
   "cell_type": "code",
   "execution_count": 37,
   "metadata": {},
   "outputs": [
    {
     "name": "stdout",
     "output_type": "stream",
     "text": "Model: \"sequential_13\"\n_________________________________________________________________\nLayer (type)                 Output Shape              Param #   \n=================================================================\nconv2d_43 (Conv2D)           (None, 32, 32, 32)        896       \n_________________________________________________________________\nmax_pooling2d_43 (MaxPooling (None, 16, 16, 32)        0         \n_________________________________________________________________\nbatch_normalization_43 (Batc (None, 16, 16, 32)        128       \n_________________________________________________________________\nconv2d_44 (Conv2D)           (None, 16, 16, 64)        18496     \n_________________________________________________________________\nmax_pooling2d_44 (MaxPooling (None, 8, 8, 64)          0         \n_________________________________________________________________\nbatch_normalization_44 (Batc (None, 8, 8, 64)          256       \n_________________________________________________________________\nconv2d_45 (Conv2D)           (None, 8, 8, 128)         73856     \n_________________________________________________________________\nmax_pooling2d_45 (MaxPooling (None, 4, 4, 128)         0         \n_________________________________________________________________\nbatch_normalization_45 (Batc (None, 4, 4, 128)         512       \n_________________________________________________________________\nflatten_13 (Flatten)         (None, 2048)              0         \n_________________________________________________________________\ndense_26 (Dense)             (None, 128)               262272    \n_________________________________________________________________\ndense_27 (Dense)             (None, 10)                1290      \n=================================================================\nTotal params: 357,706\nTrainable params: 357,258\nNon-trainable params: 448\n_________________________________________________________________\n"
    }
   ],
   "source": [
    "model = Sequential([\n",
    "    Conv2D(32, kernel_size=(3,3), strides=(1,1), input_shape=(32,32,3), activation='relu', padding='same'),\n",
    "    MaxPooling2D(),\n",
    "    BatchNormalization(),\n",
    "\n",
    "    Conv2D(64, kernel_size=(3,3), activation='relu', padding='same'),\n",
    "    MaxPooling2D(), \n",
    "    BatchNormalization(),\n",
    "\n",
    "    Conv2D(128, kernel_size=(3,3), activation='relu', padding='same'),\n",
    "    MaxPooling2D(), \n",
    "    BatchNormalization(),\n",
    "\n",
    "  \n",
    "    Flatten(), \n",
    "    Dense(128, activation=\"relu\"),\n",
    "    Dense(10, activation=\"softmax\")\n",
    "])\n",
    "\n",
    "\n",
    "model.summary()"
   ]
  },
  {
   "cell_type": "code",
   "execution_count": 38,
   "metadata": {},
   "outputs": [
    {
     "name": "stdout",
     "output_type": "stream",
     "text": "Train on 40000 samples, validate on 10000 samples\nEpoch 1/15\n40000/40000 [==============================] - 120s 3ms/step - loss: 1.2667 - accuracy: 0.5635 - val_loss: 1.0235 - val_accuracy: 0.6490\nEpoch 2/15\n40000/40000 [==============================] - 124s 3ms/step - loss: 0.8154 - accuracy: 0.7145 - val_loss: 0.8263 - val_accuracy: 0.7087\nEpoch 3/15\n40000/40000 [==============================] - 134s 3ms/step - loss: 0.6281 - accuracy: 0.7805 - val_loss: 0.7886 - val_accuracy: 0.7298\nEpoch 4/15\n40000/40000 [==============================] - 144s 4ms/step - loss: 0.4885 - accuracy: 0.8276 - val_loss: 0.8319 - val_accuracy: 0.7294\nEpoch 5/15\n40000/40000 [==============================] - 132s 3ms/step - loss: 0.3755 - accuracy: 0.8684 - val_loss: 0.8145 - val_accuracy: 0.7501\nEpoch 6/15\n40000/40000 [==============================] - 146s 4ms/step - loss: 0.2793 - accuracy: 0.9013 - val_loss: 0.8707 - val_accuracy: 0.7548\nEpoch 7/15\n40000/40000 [==============================] - 140s 4ms/step - loss: 0.2144 - accuracy: 0.9247 - val_loss: 0.9913 - val_accuracy: 0.7472\nEpoch 8/15\n40000/40000 [==============================] - 150s 4ms/step - loss: 0.1652 - accuracy: 0.9413 - val_loss: 1.0548 - val_accuracy: 0.7437\nEpoch 9/15\n40000/40000 [==============================] - 137s 3ms/step - loss: 0.1383 - accuracy: 0.9520 - val_loss: 1.1529 - val_accuracy: 0.7499\nEpoch 10/15\n40000/40000 [==============================] - 138s 3ms/step - loss: 0.1245 - accuracy: 0.9567 - val_loss: 1.2327 - val_accuracy: 0.7461\nEpoch 11/15\n40000/40000 [==============================] - 139s 3ms/step - loss: 0.1130 - accuracy: 0.9590 - val_loss: 1.2908 - val_accuracy: 0.7474\nEpoch 12/15\n40000/40000 [==============================] - 139s 3ms/step - loss: 0.1006 - accuracy: 0.9651 - val_loss: 1.2843 - val_accuracy: 0.7513\nEpoch 13/15\n40000/40000 [==============================] - 139s 3ms/step - loss: 0.0917 - accuracy: 0.9685 - val_loss: 1.3753 - val_accuracy: 0.7423\nEpoch 14/15\n36128/40000 [==========================>...] - ETA: 12s - loss: 0.0785 - accuracy: 0.9735"
    }
   ],
   "source": [
    "model.compile(optimizer=\"adam\", loss=\"categorical_crossentropy\", metrics=[\"accuracy\"])\n",
    "model.fit(x=X_train, y=y_train_hot, validation_data=(X_val, y_val_hot) , epochs=15)\n"
   ]
  },
  {
   "cell_type": "code",
   "execution_count": null,
   "metadata": {},
   "outputs": [],
   "source": [
    "0.58"
   ]
  },
  {
   "cell_type": "code",
   "execution_count": null,
   "metadata": {},
   "outputs": [],
   "source": []
  }
 ]
}